{
 "cells": [
  {
   "cell_type": "code",
   "execution_count": 8,
   "id": "7931c6b4-9d5c-4afd-8cae-f2ca99ee99b2",
   "metadata": {},
   "outputs": [],
   "source": [
    "#Create an “Academic performance” dataset of students and perform the following operations using Python\n",
    "import numpy as np\n",
    "import random\n",
    "import pandas as pd\n",
    "import seaborn as sns\n",
    "import matplotlib.pyplot as mp\n",
    "from sklearn.preprocessing import LabelEncoder"
   ]
  },
  {
   "cell_type": "code",
   "execution_count": 2,
   "id": "f06095a1-e569-4873-a0b2-35fe684d55f5",
   "metadata": {},
   "outputs": [],
   "source": [
    "names=['Sushil','Abhishek','Aaditya','Amit','Samarth','Gaurav','Vaishnav','Jagdish','Pushkar','Nikita','Janahvi','Shraddha','Preeti','Sayali','Shruti','Vaishnavi','Urvi']"
   ]
  },
  {
   "cell_type": "code",
   "execution_count": 3,
   "id": "a57d91ef-23bd-4ee8-a947-0f3c9252afae",
   "metadata": {},
   "outputs": [],
   "source": [
    "def random_score():\n",
    "    return random.randint(35,100)"
   ]
  },
  {
   "cell_type": "code",
   "execution_count": 17,
   "id": "b3217604-27f0-47d9-824e-5cc319b270a2",
   "metadata": {},
   "outputs": [],
   "source": [
    "def final_grade(avg_score, attendance):\n",
    "    if avg_score >= 90 and attendance >= 90:\n",
    "        return 'A'\n",
    "    elif avg_score >= 75 and attendance >= 75:\n",
    "        return 'B'\n",
    "    elif avg_score >= 55 and attendance >= 55:\n",
    "        return 'C'\n",
    "    elif avg_score >= 35 and attendance >= 35:\n",
    "        return 'D'\n",
    "    else:\n",
    "        return 'FAIL'"
   ]
  },
  {
   "cell_type": "code",
   "execution_count": 20,
   "id": "06a3ce06-baf6-46bb-bc17-b2bf41c9683b",
   "metadata": {},
   "outputs": [],
   "source": [
    "data = []\n",
    "for student_id, student_name in enumerate(names, 1):\n",
    "    math_score = random_score() if random.random() > 0.2 else None\n",
    "    science_score = random_score() if random.random() > 0.2 else None\n",
    "    attendance = random.randint(50, 100)\n",
    "\n",
    "    # Calculate average score (ignoring None values)\n",
    "    scores = [score for score in [math_score, science_score] if score is not None]\n",
    "    avg_score = sum(scores) / len(scores) if scores else 0\n",
    "\n",
    "    # Determine final grade\n",
    "    grade = final_grade(avg_score, attendance)\n",
    "\n",
    "    # Append data to the list\n",
    "    data.append({\n",
    "        'StudentID': student_id,\n",
    "        'Name': student_name,\n",
    "        'Math_Score': math_score,\n",
    "        'Science_Score': science_score,\n",
    "        'Attendance': attendance,\n",
    "        'Average_Score': avg_score,\n",
    "        'Final_Grade': grade\n",
    "    })"
   ]
  },
  {
   "cell_type": "code",
   "execution_count": 21,
   "id": "95e73e2e-7868-4904-bef0-ec47ee367e23",
   "metadata": {},
   "outputs": [
    {
     "name": "stdout",
     "output_type": "stream",
     "text": [
      "    StudentID       Name  Math_Score  Science_Score  Attendance  \\\n",
      "0           1     Sushil        57.0           46.0          75   \n",
      "1           2   Abhishek        46.0            NaN          87   \n",
      "2           3    Aaditya         NaN            NaN          79   \n",
      "3           4       Amit        35.0           52.0          75   \n",
      "4           5    Samarth        93.0           46.0          97   \n",
      "5           6     Gaurav        98.0            NaN          91   \n",
      "6           7   Vaishnav        97.0           81.0          70   \n",
      "7           8    Jagdish         NaN           46.0          69   \n",
      "8           9    Pushkar        67.0           97.0          76   \n",
      "9          10     Nikita        43.0           43.0          68   \n",
      "10         11    Janahvi        51.0           83.0          56   \n",
      "11         12   Shraddha        52.0           56.0          83   \n",
      "12         13     Preeti        63.0           42.0          98   \n",
      "13         14     Sayali        53.0           67.0          60   \n",
      "14         15     Shruti        88.0           86.0          59   \n",
      "15         16  Vaishnavi        66.0           56.0          66   \n",
      "16         17       Urvi        78.0           78.0          52   \n",
      "\n",
      "    Average_Score Final_Grade  \n",
      "0            51.5           D  \n",
      "1            46.0           D  \n",
      "2             0.0        FAIL  \n",
      "3            43.5           D  \n",
      "4            69.5           C  \n",
      "5            98.0           A  \n",
      "6            89.0           C  \n",
      "7            46.0           D  \n",
      "8            82.0           B  \n",
      "9            43.0           D  \n",
      "10           67.0           C  \n",
      "11           54.0           D  \n",
      "12           52.5           D  \n",
      "13           60.0           C  \n",
      "14           87.0           C  \n",
      "15           61.0           C  \n",
      "16           78.0           D  \n"
     ]
    }
   ],
   "source": [
    "# Convert data to DataFrame\n",
    "df = pd.DataFrame(data)\n",
    "\n",
    "# Display the dataset\n",
    "print(df)\n"
   ]
  },
  {
   "cell_type": "code",
   "execution_count": null,
   "id": "c7058224-a275-4206-bd14-aa3e61eb669f",
   "metadata": {},
   "outputs": [],
   "source": []
  }
 ],
 "metadata": {
  "kernelspec": {
   "display_name": "Python 3 (ipykernel)",
   "language": "python",
   "name": "python3"
  },
  "language_info": {
   "codemirror_mode": {
    "name": "ipython",
    "version": 3
   },
   "file_extension": ".py",
   "mimetype": "text/x-python",
   "name": "python",
   "nbconvert_exporter": "python",
   "pygments_lexer": "ipython3",
   "version": "3.13.1"
  }
 },
 "nbformat": 4,
 "nbformat_minor": 5
}
